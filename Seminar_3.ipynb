{
 "cells": [
  {
   "cell_type": "markdown",
   "id": "ff22c5d9",
   "metadata": {
    "slideshow": {
     "slide_type": "slide"
    }
   },
   "source": [
    "# 1. Effusion\n",
    "\n",
    "In einem abgeschlossenen Behälter mit insgesamt 100 cm$^2$ Innenwandfläche befindet sich Xenon bei 380 K unter einem Druck von 1.12 bar.\n",
    "\n",
    "a) Berechnen Sie mit welcher Frequenz die Xe-Atome (Molmasse 131.29 g/mol) auf die Wand stoßen. \n"
   ]
  },
  {
   "cell_type": "markdown",
   "id": "686cc707",
   "metadata": {
    "slideshow": {
     "slide_type": "subslide"
    }
   },
   "source": [
    "$$\n",
    "\\begin{aligned}\n",
    "z_{A} &=\\frac{\\text { Zahl der Wandstöße }}{\\Delta t} \\\\\n",
    "&=\\frac{N}{V} \\frac{A\\left\\langle\\left|c_{z}\\right|\\right\\rangle \\Delta t}{\\Delta t} \\\\\n",
    "&=\\frac{N A}{V} \\frac{k T}{2 \\pi m}^{1 / 2} \\\\\n",
    "&=\\frac{N A}{V} \\frac{\\bar{c}}{4} \\\\\n",
    "&=\\frac{p A}{(2 \\pi m k T)^{1 / 2}} \\\\\n",
    "z_{A} &= \\frac{p A}{(2 \\pi \\frac{M}{N_A} k T)^{1 / 2}}\n",
    "\\end{aligned}\n",
    "$$\n"
   ]
  },
  {
   "cell_type": "code",
   "execution_count": 1,
   "id": "019ddb38",
   "metadata": {
    "slideshow": {
     "slide_type": "subslide"
    }
   },
   "outputs": [
    {
     "name": "stdout",
     "output_type": "stream",
     "text": [
      "Die Xenon-Atome stoßen mit einer Frequenz von 1.32e+25 s-1 auf die Wand.\n"
     ]
    }
   ],
   "source": [
    "from scipy.constants import bar, N_A, k\n",
    "from math import pi\n",
    "\n",
    "# Tipp: Immer zu SI Einheiten konvertieren\n",
    "p = 1.12 * bar          # Pascal\n",
    "A = 100 * 1e-4          # m^2\n",
    "M = 131.29 * 1e-3       # kg/mol\n",
    "T = 380                 # K\n",
    "\n",
    "z_A = p * A / (2 * pi * M / N_A * k * T)**(1/2) # s\n",
    "print(f\"Die Xenon-Atome stoßen mit einer Frequenz von {z_A:.2e} s-1 auf die Wand.\")"
   ]
  },
  {
   "cell_type": "markdown",
   "id": "b2fc9f96",
   "metadata": {
    "slideshow": {
     "slide_type": "slide"
    }
   },
   "source": [
    "b) Welches Gas stößt mit etwa der doppelten Frequenz an die Wände?\n",
    "\n",
    "$$\n",
    "\\begin{aligned}\n",
    "z_{B} &= 2 z_{A} \\\\\n",
    "2 z_{A} &= \\frac{p A}{(2 \\pi \\frac{M'}{N_A} k T)^{1 / 2}} \\\\ \n",
    "\\frac{p A}{2 z_{A}} &= (2 \\pi \\frac{M'}{N_A} k T)^{1 / 2} \\\\ \n",
    "M' &= \\frac{p^2 A^2 N_A}{8 \\pi z_{A}^2 k T}\n",
    "\\end{aligned}\n",
    "$$"
   ]
  },
  {
   "cell_type": "code",
   "execution_count": 2,
   "id": "bcf42cc7",
   "metadata": {
    "slideshow": {
     "slide_type": "fragment"
    }
   },
   "outputs": [
    {
     "name": "stdout",
     "output_type": "stream",
     "text": [
      "Ein Gas mit der Molmasse 32.82 g/mol stößt mit doppelter Frequenz auf die Wand.\n",
      "Dabei handelt es sich um Sauerstoff O_2. Schwefel ist bei 380 K noch flüssig.\n"
     ]
    }
   ],
   "source": [
    "M_prime = (p**2 * A**2 * N_A) / (8 * pi * z_A**2 * k * T)\n",
    "M_prime *= 1e3 # g/mol\n",
    "print(f\"Ein Gas mit der Molmasse {M_prime:.2f} g/mol stößt mit doppelter Frequenz auf die Wand.\")\n",
    "print(\"Dabei handelt es sich um Sauerstoff O_2. Schwefel ist bei 380 K noch flüssig.\")"
   ]
  },
  {
   "cell_type": "markdown",
   "id": "297df7d3",
   "metadata": {
    "slideshow": {
     "slide_type": "slide"
    }
   },
   "source": [
    "# 2. Kinetische Gastheorie\n",
    "\n",
    "Wie groß ist (a) die quadratisch gemittelte Geschwindigkeit und (b) die mittlere Geschwindigkeit von CO2-Molekülen bei 25°C und 100°C? Ermitteln Sie (c) die mittlere freie Weglänge von CO2-Molekülen bei 25°C und 1 bar bzw. 10$^{–7}$ bar. Der Durchmesser eines CO2-Moleküls beträgt 0,26 nm. Nehmen Sie ideales Verhalten an. (d) Welche Änderung der mittleren freien Weglänge erwarten Sie bei Temperaturerhöhung? Begründen Sie Ihre Antwort."
   ]
  },
  {
   "cell_type": "markdown",
   "id": "8afe3916",
   "metadata": {
    "slideshow": {
     "slide_type": "subslide"
    }
   },
   "source": [
    "a) Quadratisch gemittelte Geschwindigkeiten:\n",
    "$$\n",
    "w_{RMS} = \\sqrt{\\lt w^2 \\gt} = \\sqrt{\\frac{3 R T}{M}}\n",
    "$$\n",
    "\n",
    "b) Mittlere Geschwindigkeit:\n",
    "$$\n",
    "\\lt w \\gt = \\sqrt{\\frac{8 RT}{ \\pi M}}\n",
    "$$\n",
    "\n",
    "c) Mittlere freie Weglänge:\n",
    "$$\n",
    "\\lambda = \\frac{1}{\\sqrt{2} \\pi d^2}\\frac{V}{N_A} = \\frac{1}{\\sqrt{2} \\pi d^2} \\frac{RT}{pN_A}\n",
    "$$"
   ]
  },
  {
   "cell_type": "code",
   "execution_count": 3,
   "id": "b5809ff1",
   "metadata": {
    "slideshow": {
     "slide_type": "subslide"
    }
   },
   "outputs": [
    {
     "name": "stdout",
     "output_type": "stream",
     "text": [
      "a) Quadratisch gemittelte Geschwindigkeiten\n",
      "25°C:  411.12 m/s\n",
      "100°C: 459.93 m/s\n",
      "\n",
      "b) Mittlere Geschwindigkeiten\n",
      "25°C:  378.77 m/s\n",
      "100°C: 423.74 m/s\n",
      "\n",
      "c) Mittlere freie Weglänge\n",
      "1 bar:    1.37e-07 m/s\n",
      "1e-7 bar: 1.37e+00 m/s\n",
      "\n",
      "d) Temperaturerhöhung führt zu einer Vergrößerung der mittleren freien Weglänge, da höhere Teilchengeschwindigkeiten die Stoßhäufigkeit vermindern.\n"
     ]
    },
    {
     "data": {
      "text/markdown": [
       "\n",
       "$\\lambda \\propto T$\n"
      ],
      "text/plain": [
       "<IPython.core.display.Markdown object>"
      ]
     },
     "metadata": {},
     "output_type": "display_data"
    },
    {
     "name": "stdout",
     "output_type": "stream",
     "text": [
      "Beispiel: 1 bar bei 100°C: 1.72e+00 m/s\n"
     ]
    }
   ],
   "source": [
    "from scipy.constants import R, nano\n",
    "from math import sqrt\n",
    "from IPython.display import display, Markdown\n",
    "\n",
    "#a)\n",
    "T1 = 25 + 273.15 # K\n",
    "T2 = 100 + 273.15 # K\n",
    "M = 44 * 1e-3 # kg/mol\n",
    "w1_RMS = sqrt(3 * R * T1 / M) # m/s\n",
    "w2_RMS = sqrt(3 * R * T2 / M) # m/s\n",
    "print(\"a) Quadratisch gemittelte Geschwindigkeiten\")\n",
    "print(f\"25°C:  {w1_RMS:.2f} m/s\")\n",
    "print(f\"100°C: {w2_RMS:.2f} m/s\")\n",
    "\n",
    "#b)\n",
    "w1 = sqrt(8 * R * T1 / (pi * M)) # m/s\n",
    "w2 = sqrt(8 * R * T2 / (pi * M)) # m/s\n",
    "print(\"\\nb) Mittlere Geschwindigkeiten\")\n",
    "print(f\"25°C:  {w1:.2f} m/s\")\n",
    "print(f\"100°C: {w2:.2f} m/s\")\n",
    "\n",
    "#c)\n",
    "d = 0.26 * nano\n",
    "p1 = 1 * bar\n",
    "p2 = 1e-7 * bar\n",
    "lambda1 = 1 / (sqrt(2) * pi * d**2) * (R*T1)/(p1 * N_A)\n",
    "lambda2 = 1 / (sqrt(2) * pi * d**2) * (R*T1)/(p2 * N_A)\n",
    "print(\"\\nc) Mittlere freie Weglänge\")\n",
    "print(f\"1 bar:    {lambda1:2.2e} m/s\")\n",
    "print(f\"1e-7 bar: {lambda2:2.2e} m/s\")\n",
    "\n",
    "print(\"\\nd) Temperaturerhöhung führt zu einer Vergrößerung der mittleren freien Weglänge, da höhere Teilchengeschwindigkeiten die Stoßhäufigkeit vermindern.\")\n",
    "display(Markdown(\n",
    "   rf\"\"\"\n",
    "$\\lambda \\propto T$\n",
    "\"\"\"))\n",
    "lambda3 = 1 / (sqrt(2) * pi * d**2) * (R*T2)/(p2 * N_A)\n",
    "print(f\"Beispiel: 1 bar bei 100°C: {lambda3:2.2e} m/s\")\n"
   ]
  },
  {
   "cell_type": "markdown",
   "id": "8b79ac9b",
   "metadata": {
    "slideshow": {
     "slide_type": "slide"
    }
   },
   "source": [
    "# 3. Kombinatorik\n",
    "\n",
    "Auf wie viele verschiedene Möglichkeiten kann man zwei durch ihr Aussehen unterscheidbare Bälle auf drei Behälter verteilen?"
   ]
  },
  {
   "cell_type": "markdown",
   "id": "c8d8808c",
   "metadata": {
    "slideshow": {
     "slide_type": "fragment"
    }
   },
   "source": [
    "Variation mit Wiederholung:\n",
    "Jedes $k$te Objekt hat $n$ Möglichkeiten.\n",
    "$$\n",
    "V_n^{(k)} = n^k = 3^2 = 9\n",
    "$$"
   ]
  },
  {
   "cell_type": "markdown",
   "id": "ec22488e",
   "metadata": {
    "slideshow": {
     "slide_type": "slide"
    }
   },
   "source": [
    "# 4. Boltzmann-Verteilung\n",
    "\n",
    "Ein System bestehe aus 20 Molekülen, die in 21 verschiedenen Energiezuständen ($\\varepsilon_{0}$ bis $\\varepsilon_{20}$) vorliegen können. Die Energie eines Zustandes sei $\\varepsilon_i = i ⋅ \\varepsilon_1 $, die Gesamtenergie betrage 20 $\\varepsilon_1$. Wie groß ist das statistische Gewicht des Makrozustandes (a), in dem sich alle Teilchen im Zustand $\\varepsilon_{1}$ befinden?"
   ]
  },
  {
   "cell_type": "markdown",
   "id": "6eef76a2",
   "metadata": {
    "slideshow": {
     "slide_type": "fragment"
    }
   },
   "source": [
    "Statistisches Gewicht:\n",
    "$$\n",
    "W = \\frac{N!}{n_0 ! \\cdot n_1 ! \\cdot ... \\cdot n_{20} !}\n",
    "$$\n",
    "\n",
    "a) Makrozustand $\\{0, 20, 0, ..., 0\\}$ \n",
    "\n",
    "Alle Teilchen befinden sich in $\\varepsilon_1$.\n",
    "\n",
    "$$\n",
    "W_a = \\frac{20!}{0 ! \\cdot 20! \\cdot ... \\cdot 0 !} = 1\n",
    "$$\n"
   ]
  },
  {
   "cell_type": "markdown",
   "id": "4397b2f9",
   "metadata": {
    "slideshow": {
     "slide_type": "slide"
    }
   },
   "source": [
    "b) Der Zustand (b) gehe aus (a) daraus hervor, dass ein Teilchen von $\\varepsilon_{1}$ nach $\\varepsilon_{0}$ geht. Welche weiteren Folgen hat das, wie groß ist das statistische Gewicht dieses Zustandes? \n"
   ]
  },
  {
   "cell_type": "markdown",
   "id": "f21830c9",
   "metadata": {
    "slideshow": {
     "slide_type": "fragment"
    }
   },
   "source": [
    "b) Makrozustand $\\{1, 18, 1, ..., 0\\}$ \n",
    "\n",
    "Ein Teilchen geht nach $\\varepsilon_0$. In Folge dessen geht ein Teilchen aus $1$ nach $2$, um die Gesamtenergie zu erhalten.\n",
    "\n",
    "$$\n",
    "W_b = \\frac{20!}{1 ! \\cdot 18! \\cdot 1 ! \\cdot ... \\cdot 0 !} = 380\n",
    "$$"
   ]
  },
  {
   "cell_type": "markdown",
   "id": "dca36be5",
   "metadata": {
    "slideshow": {
     "slide_type": "slide"
    }
   },
   "source": [
    "c) Wie groß ist das statistische Gewicht des Makrozustandes (c), bei dem 7 Teilchen nach $\\varepsilon_{0}$, je eines nach $\\varepsilon_{3}$ und $\\varepsilon_{4}$, und zwei nach $\\varepsilon_{2}$ gegangen sind?"
   ]
  },
  {
   "cell_type": "markdown",
   "id": "a66fcc18",
   "metadata": {
    "slideshow": {
     "slide_type": "fragment"
    }
   },
   "source": [
    "c) Makrozustand $\\{7, 9, 2, 1, 1, ..., 0\\}$ \n",
    "\n",
    "$$\n",
    "W_c = \\frac{20!}{7 ! \\cdot 9! \\cdot 2 ! \\cdot 1 ! \\cdot 1 !} = 665121600\n",
    "$$"
   ]
  },
  {
   "cell_type": "markdown",
   "id": "8676a175",
   "metadata": {
    "slideshow": {
     "slide_type": "slide"
    }
   },
   "source": [
    "d) Ein System bestehe aus zwei Teilchen A und B, die in vier verschiedenen Energiezuständen $\\varepsilon_0=0$, $\\varepsilon_1$, $\\varepsilon_2=2\\varepsilon_1$ und $\\varepsilon_3=3\\varepsilon_1$ vorliegen können. Die Gesamtenergie betrage $3 \\varepsilon_1$. Wie viele Makrozustände gibt es für dieses System, durch welche Mikrozustände werden sie realisiert, welches statistische Gewicht haben sie?"
   ]
  },
  {
   "cell_type": "markdown",
   "id": "262c979f",
   "metadata": {
    "slideshow": {
     "slide_type": "fragment"
    }
   },
   "source": [
    "Durch die Gesamtenergie sind nur zwei Makrozustände möglich, nämlich $\\{1,0,0,1 \\}$ und $\\{0,1,1,0\\}$. Beide haben ein statistisches Gewicht von 2 und sind auf die Arten A/B oder B/A realisierbar."
   ]
  },
  {
   "cell_type": "markdown",
   "id": "4dfdfc3c",
   "metadata": {
    "slideshow": {
     "slide_type": "slide"
    }
   },
   "source": [
    "e) Welche Energie hat ein Zustand 2, dessen Besetzung bei 300 K nur ein Viertel der Besetzung eines Zustandes 1 ($\\varepsilon_1 = 1.000 ⋅ 10^{−21}~J$) ausmacht, wenn das System der Boltzmann-Verteilung gehorcht?"
   ]
  },
  {
   "cell_type": "markdown",
   "id": "c5dfebda",
   "metadata": {
    "slideshow": {
     "slide_type": "fragment"
    }
   },
   "source": [
    "Boltzmann-Verteilung:\n",
    "$$\n",
    "p_i = \\frac{e^{-\\beta \\varepsilon_i}}{\\sum_j e^{-\\beta \\varepsilon_j}}\n",
    "$$\n",
    "\n",
    "Der Zustand 2 soll die Wahrscheinlichkeit von $0.25\\cdot p_1$ haben:\n",
    "$$\n",
    "\\begin{aligned}\n",
    "p_2 &= \\frac{e^{-\\beta \\varepsilon_2}}{e^{-\\beta \\varepsilon_1} + e^{-\\beta \\varepsilon_2}} \\\\\n",
    "&= 0.25 \\cdot p_1 = 0.25 \\cdot \\frac{e^{-\\beta \\varepsilon_1}}{e^{-\\beta \\varepsilon_1} + e^{-\\beta \\varepsilon_2}}\n",
    "\\end{aligned}\n",
    "$$\n"
   ]
  },
  {
   "cell_type": "markdown",
   "id": "e2af258b",
   "metadata": {
    "slideshow": {
     "slide_type": "subslide"
    }
   },
   "source": [
    "Das können wir nach $\\varepsilon_2$ umstellen:\n",
    "$$\n",
    "\\begin{aligned}\n",
    "\\frac{e^{-\\beta \\varepsilon_2}}{e^{-\\beta \\varepsilon_1} + e^{-\\beta \\varepsilon_2}}\n",
    "&= 0.25 \\cdot \\frac{e^{-\\beta \\varepsilon_1}}{e^{-\\beta \\varepsilon_1} + e^{-\\beta \\varepsilon_2}} \\\\\n",
    "e^{-\\beta \\varepsilon_2} &= 0.25 \\cdot e^{-\\beta \\varepsilon_1} \\\\\n",
    "-\\beta \\varepsilon_2 &= \\ln(0.25) - \\beta \\varepsilon_1 \\\\\n",
    "\\varepsilon_2 &= \\frac{\\ln(0.25)}{-\\beta} + \\varepsilon_1 \n",
    "\\end{aligned}\n",
    "$$"
   ]
  },
  {
   "cell_type": "code",
   "execution_count": 10,
   "id": "2d35dd70",
   "metadata": {
    "slideshow": {
     "slide_type": "fragment"
    }
   },
   "outputs": [
    {
     "name": "stdout",
     "output_type": "stream",
     "text": [
      "Die Energie des Zustandes 2 ist 6.74e-21 J.\n"
     ]
    }
   ],
   "source": [
    "from numpy import log as ln\n",
    "\n",
    "T = 300\n",
    "beta = 1/(k * T)\n",
    "epsilon_1 = 1e-21 # J\n",
    "epsilon_2 = ln(0.25) / (-beta) + epsilon_1\n",
    "\n",
    "print(f\"Die Energie des Zustandes 2 ist {epsilon_2:2.2e} J.\")"
   ]
  },
  {
   "cell_type": "markdown",
   "id": "2ffb99ce",
   "metadata": {
    "slideshow": {
     "slide_type": "slide"
    }
   },
   "source": [
    "f) Ein System, das der Boltzmann-Statistik gehorcht, bestehe aus Teilchen, die in Energiezuständen vorliegen können, welche ein ganzzahliges Vielfaches einer Energie $\\varepsilon$ sind. Wie groß ist $\\varepsilon$, wenn sich bei der Temperatur $𝑇 = 500~K$ die Zahlen $n$ der Teilchen, die in aufeinander folgenden Zuständen vorliegen, wie $n_i / n_{i+1} = 1000:1$ verhalten?"
   ]
  },
  {
   "cell_type": "markdown",
   "id": "272f2f18",
   "metadata": {
    "slideshow": {
     "slide_type": "fragment"
    }
   },
   "source": [
    "$$\n",
    "n_i = 1000 \\cdot n_{i+1}\\\\\n",
    "\\varepsilon_i = m \\varepsilon ~\\forall m \\in \\mathbb{Z} \\\\\n",
    "\\varepsilon_{i+1} = \\varepsilon_i + \\varepsilon\n",
    "$$"
   ]
  },
  {
   "cell_type": "markdown",
   "id": "090dc9e9",
   "metadata": {
    "slideshow": {
     "slide_type": "subslide"
    }
   },
   "source": [
    "Daraus folgt:\n",
    "$$\n",
    "\\begin{aligned}\n",
    "\\frac{n_1}{N} &= 1000 \\cdot \\frac{n_{i+1}}{N} \\\\\n",
    "\\frac{\\exp(-\\beta \\varepsilon_i)}{\\sum_j\\exp(-\\beta\\varepsilon_j)}\n",
    "&= 1000 \\cdot \\frac{\\exp(-\\beta \\varepsilon_{i+1})}{\\sum_j\\exp(-\\beta\\varepsilon_j)} \\\\\n",
    "&= 1000 \\cdot \\frac{\\exp(-\\beta (\\varepsilon_{i} + \\varepsilon))}{\\sum_j\\exp(-\\beta\\varepsilon_j)} \\\\\n",
    "\\exp(-\\beta \\varepsilon_i) &= 1000 \\cdot \\exp(-\\beta (\\varepsilon_{i} + \\varepsilon)) \\\\\n",
    "\\exp(-\\beta \\varepsilon_i) &= 1000 \\cdot \\exp(-\\beta \\varepsilon_{i})\\exp(-\\beta \\varepsilon) \\\\\n",
    "\\exp(-\\beta \\varepsilon) &= \\frac{1}{1000} \\\\\n",
    "\\varepsilon &= \\frac{1}{-\\beta} \\ln\\left(\\frac{1}{1000}\\right)\n",
    "\\end{aligned}\n",
    "$$"
   ]
  },
  {
   "cell_type": "code",
   "execution_count": 15,
   "id": "fc783165",
   "metadata": {
    "slideshow": {
     "slide_type": "fragment"
    }
   },
   "outputs": [
    {
     "name": "stdout",
     "output_type": "stream",
     "text": [
      "Die Energie ist 4.77e-20 J.\n"
     ]
    }
   ],
   "source": [
    "T = 500\n",
    "beta = 1/(k * T)\n",
    "\n",
    "epsilon = 1/(-beta) * ln(1/1000)\n",
    "print(f\"Die Energie ist {epsilon:2.2e} J.\")"
   ]
  },
  {
   "cell_type": "markdown",
   "id": "35ab535c",
   "metadata": {
    "slideshow": {
     "slide_type": "slide"
    }
   },
   "source": [
    "# 8. Molekulare Zustandssumme\n",
    "\n",
    "(a) Ein Heliumatom sei in würfelförmigen Behältern mit den Kantenlängen 0,4 Å, 0,8 Å, 1,5 Å, 3,0 Å und 12,0 Å bei 298 K eingesperrt. Berechnen Sie für diese Fälle die sich ergebende Translationszustandssumme sowohl mit Hilfe der korrekten Summenformel als auch mit Hilfe der angenäherten Integralformel. Vergleichen Sie die erhaltenen Ergebnisse und diskutieren Sie sie im Hinblick auf die Konvergenz. Diskutieren Sie auch die Größe der Behälter relativ zur Größe des Heliumatoms. "
   ]
  },
  {
   "cell_type": "markdown",
   "id": "9d8f3c2a",
   "metadata": {},
   "source": [
    "Molekulare Translationszustandssumme:\n",
    "$$\n",
    "\\begin{gathered}\n",
    "q=\\sum_{n_{x}=1}^{\\infty} \\sum_{n_{y}=1}^{\\infty} \\sum_{n_{z}=1}^{\\infty} e^{-\\gamma\\left(n_{x}^{2}+n_{y}^{2}+n_{z}^{2}-3\\right)}=\\sum_{n_{x}=1}^{\\infty} e^{-\\gamma\\left(n_{z}^{2}-1\\right)} \\sum_{n_{y}=1}^{\\infty} e^{-\\gamma\\left(n_{y}^{2}-1\\right)} \\sum_{n_{z}=1}^{\\infty} e^{-\\gamma\\left(n_{z}^{2}-1\\right)}=\\left[\\sum_{n=1}^{\\infty} e^{-\\gamma\\left(n^{2}-1\\right)}\\right]^{3} \\\\\n",
    "\\text { mit } \\gamma=\\frac{h^{2}}{8 m k T V^{2 / 3}}\n",
    "\\end{gathered}\n",
    "$$\n",
    "\n",
    "Annäherung durch Integration:\n",
    "$$\n",
    "q_{\\text {trans }} \\approx\\left(\\frac{2 \\pi m k T}{h^{2}}\\right)^{3 / 2} V\n",
    "$$"
   ]
  },
  {
   "cell_type": "code",
   "execution_count": 12,
   "id": "0e3f1e99",
   "metadata": {
    "slideshow": {
     "slide_type": "subslide"
    }
   },
   "outputs": [
    {
     "name": "stdout",
     "output_type": "stream",
     "text": [
      "a) Abhängigkeit vom Volumen (n=10000)\n",
      "\n",
      "volume [A^3]: 0.06 \t q(sum): 1.07141 \t q(int): 0.49547 \t error: -53.8 %\n",
      "volume [A^3]: 0.51 \t q(sum): 3.25055 \t q(int): 3.96377 \t error: 21.9 %\n",
      "volume [A^3]: 3.38 \t q(sum): 19.62963 \t q(int): 26.12836 \t error: 33.1 %\n",
      "volume [A^3]: 27.00 \t q(sum): 171.62724 \t q(int): 209.02684 \t error: 21.8 %\n",
      "volume [A^3]: 1728.00 \t q(sum): 12602.67656 \t q(int): 13377.71782 \t error: 6.1 %\n",
      "volume [A^3]: 3375.00 \t q(sum): 24896.22953 \t q(int): 26128.35512 \t error: 4.9 %\n",
      "\n",
      " Abhängigkeit von n (Volumen=1 cm^3)\n",
      "n_max: 1.00e+00 \t q(sum): 1.00e+00 \t q(int): 7.74e+24 \t error: 7.74e+26 %\n",
      "n_max: 1.00e+03 \t q(sum): 1.00e+09 \t q(int): 7.74e+24 \t error: 7.74e+17 %\n",
      "n_max: 1.00e+05 \t q(sum): 1.00e+15 \t q(int): 7.74e+24 \t error: 7.74e+11 %\n",
      "n_max: 1.00e+06 \t q(sum): 1.00e+18 \t q(int): 7.74e+24 \t error: 7.74e+08 %\n",
      "n_max: 1.00e+07 \t q(sum): 9.98e+20 \t q(int): 7.74e+24 \t error: 7.76e+05 %\n",
      "n_max: 1.00e+08 \t q(sum): 8.23e+23 \t q(int): 7.74e+24 \t error: 8.41e+02 %\n",
      "n_max: 1.00e+09 \t q(sum): 7.74e+24 \t q(int): 7.74e+24 \t error: 1.15e-06 %\n"
     ]
    }
   ],
   "source": [
    "from scipy.constants import h, angstrom, centi\n",
    "from numpy import exp, arange\n",
    "\n",
    "m = 4.002602 * 1e-3 / N_A # kg\n",
    "T = 298\n",
    "\n",
    "def q_sum(a, T, m, n_max=1, n_min=1):\n",
    "    V = a**3\n",
    "    gamma = h**2/(8 * m * k * T * V**(2/3))\n",
    "    q = lambda n: exp(- gamma * (n**2 -1))\n",
    "    q = sum(q(arange(n_min, n_max+1)))\n",
    "    return q**3\n",
    "\n",
    "def q_int(a, T, m):\n",
    "    V = a**3\n",
    "    q = ((2 * pi * m * k * T)/(h**2))**(3/2) * V\n",
    "    return q\n",
    "\n",
    "print(\"a) Abhängigkeit vom Volumen (n=10000)\\n\")\n",
    "lengths = [0.4, 0.8, 1.5, 3.0, 12.0, 15.0]\n",
    "for a in lengths:\n",
    "    l = a * angstrom\n",
    "    q1 = q_sum(l, T, m, n_max=10000)\n",
    "    q2 = q_int(l, T, m)\n",
    "    error = (q2 - q1) / q1 * 100\n",
    "    print(f\"volume [A^3]: {a**3:.2f} \\t q(sum): {q1:.5f} \\t q(int): {q2:.5f} \\t error: {error:.1f} %\")\n",
    "\n",
    "print(\"\\n Abhängigkeit von n (Volumen=1 cm^3)\")    \n",
    "length = 1.0 * centi\n",
    "ns = [1, 1e3, 1e5, 1e6, 1e7, 1e8, 1e9]\n",
    "for n in ns:\n",
    "    n = int(n)\n",
    "    q1 = q_sum(length, T, m, n_max=n)\n",
    "    q2 = q_int(length, T, m)\n",
    "    error = (q2 - q1) / q1 * 100\n",
    "    print(f\"n_max: {n:1.2e} \\t q(sum): {q1:2.2e} \\t q(int): {q2:2.2e} \\t error: {error:2.2e} %\")"
   ]
  },
  {
   "cell_type": "markdown",
   "id": "769a2070",
   "metadata": {
    "slideshow": {
     "slide_type": "slide"
    }
   },
   "source": [
    "(b) Berechnen Sie die Beiträge der Translationszustände mit $n_x = n_y = n_z = 1, 1000, 10000, 100000$ zu der Zustandssumme eines Heliumatoms, das sich in einem Behälter mit der Kantenlänge 1,0 cm befindet. Diskutieren Sie anhand dieses Ergebnisses die Probleme, die korrekte Summenformel auf realistische Fragestellungen anwenden zu wollen."
   ]
  },
  {
   "cell_type": "code",
   "execution_count": 13,
   "id": "ef375a91",
   "metadata": {
    "slideshow": {
     "slide_type": "fragment"
    }
   },
   "outputs": [
    {
     "name": "stdout",
     "output_type": "stream",
     "text": [
      "\n",
      " Beiträge einzelner Translationszustände\n",
      "n: 1.00e+00 \t contribution: 4.02e-05\n",
      "n: 1.00e+03 \t contribution: 4.02e-05\n",
      "n: 1.00e+05 \t contribution: 4.02e-05\n",
      "n: 1.00e+06 \t contribution: 4.02e-05\n",
      "n: 1.00e+07 \t contribution: 3.99e-05\n",
      "n: 1.00e+08 \t contribution: 2.20e-05\n",
      "n: 1.00e+09 \t contribution: 2.86e-31\n"
     ]
    }
   ],
   "source": [
    "print(\"\\n Beiträge einzelner Translationszustände\")\n",
    "length = 1.0 * centi\n",
    "ns = [1, 1e3, 1e5, 1e6, 1e7, 1e8, 1e9]\n",
    "refq = q_sum(l, T, m, n_max=1e9, n_min=1)\n",
    "for n in ns:\n",
    "    n = int(n)\n",
    "    q = q_sum(length, T, m, n_max=n, n_min=n)\n",
    "    contribution = q / refq\n",
    "    print(f\"n: {n:2.2e} \\t contribution: {contribution:2.2e}\")"
   ]
  },
  {
   "cell_type": "markdown",
   "id": "a209be6f",
   "metadata": {
    "slideshow": {
     "slide_type": "slide"
    }
   },
   "source": [
    "c) Berechnen Sie die Rotationszustandssumme für HI-Moleküle für Temperaturen von 0 K, 1 K, 10 K, 100 K, 273 K jeweils durch explizite Summation und mit Hilfe der Näherungsformel, die sich durch Ersetzen der Summe durch ein Integral ergibt. Vergleichen Sie beide Ergebnisse. Ab welcher Temperatur ist die Näherung gerechtfertigt?"
   ]
  },
  {
   "cell_type": "markdown",
   "id": "d20c2a01",
   "metadata": {
    "slideshow": {
     "slide_type": "fragment"
    }
   },
   "source": [
    "$$\n",
    "\\begin{gather}\n",
    "\\varepsilon_J &= hcBJ(J+1) ~~~\\forall~J=0,1,2,... \\\\\n",
    "q_{rot}(sum) &= \\sum_J (2J+1) \\exp(-\\beta \\varepsilon_J) \\\\\n",
    "q_{rot}(int) &= \\int_0^\\infty(2J+1)\\exp(-\\beta \\varepsilon_J)\\mathrm{d}J = \\frac{kT}{hcB} \\\\\n",
    "B &= \\frac{\\hbar}{4 \\pi c I} \\\\\n",
    "I &= \\mu R^2\n",
    "\\end{gather}\n",
    "$$"
   ]
  },
  {
   "cell_type": "code",
   "execution_count": 14,
   "id": "ff4d73a1",
   "metadata": {
    "slideshow": {
     "slide_type": "subslide"
    }
   },
   "outputs": [
    {
     "name": "stdout",
     "output_type": "stream",
     "text": [
      "mu: \t 1.65e-27 kg\n",
      "I: \t 4.27e-47 kg m^2\n",
      "B: \t 6.56e+02 m^-1\n",
      "\n",
      "Abhängigkeit von der Temperatur:\n",
      "Temperatur: 1 K \t q(sum): 1.00e+00 \t q(int): 1.06e-01 \t error: -89.4095 %\n",
      "Temperatur: 10 K \t q(sum): 1.47e+00 \t q(int): 1.06e+00 \t error: -28.0197 %\n",
      "Temperatur: 50 K \t q(sum): 5.64e+00 \t q(int): 5.30e+00 \t error: -6.1400 %\n",
      "Temperatur: 100 K \t q(sum): 1.09e+01 \t q(int): 1.06e+01 \t error: -3.1083 %\n",
      "Temperatur: 273 K \t q(sum): 2.92e+01 \t q(int): 2.89e+01 \t error: -1.1476 %\n",
      "\n",
      "Die charakteristische Rotationstemperatur ist 9.45 K.\n",
      "Ab etwa dem fünffachen diesen Wertes (50 K) ist der Fehler durch die Integration unter 6 %\n",
      "und in einer akzeptablen Größenordnung.\n"
     ]
    }
   ],
   "source": [
    "from scipy.constants import hbar, c, angstrom\n",
    "\n",
    "R = 1.609 * angstrom\n",
    "m1 = 1\n",
    "m2 = 127\n",
    "mu = (m1 * m2)/(m1 + m2) * 1e-3 / N_A # kg\n",
    "I = mu * R**2\n",
    "B = hbar / (4 * pi * c * I)\n",
    "\n",
    "print(f\"mu: \\t {mu:.2e} kg\")\n",
    "print(f\"I: \\t {I:.2e} kg m^2\")\n",
    "print(f\"B: \\t {B:.2e} m^-1\")\n",
    "\n",
    "def epsilon_J(J):\n",
    "    eps = h * c * B * J * (J + 1)\n",
    "    return eps\n",
    "\n",
    "def q_rot_sum(T, J_max=1e6):\n",
    "    beta = 1 / (k * T)\n",
    "    q = sum((2 * J + 1) * exp(-beta * epsilon_J(J)) for J in range(0, int(J_max+1)))\n",
    "    return q\n",
    "\n",
    "def q_rot_int(T):\n",
    "    return k * T / (h * c * B)\n",
    "\n",
    "print(\"\\nAbhängigkeit von der Temperatur:\")\n",
    "for T in [1, 10, 50, 100, 273]:\n",
    "    # 0 is ill-defined because of beta\n",
    "    q1 = q_rot_sum(T)\n",
    "    q2 = q_rot_int(T)\n",
    "    error = (q2 - q1) / q1 * 100\n",
    "    print(f\"Temperatur: {T} K \\t q(sum): {q1:2.2e} \\t q(int): {q2:2.2e} \\t error: {error:.4f} %\")\n",
    "    \n",
    "print(\"\"\"\\nDie charakteristische Rotationstemperatur ist 9.45 K.\n",
    "Ab etwa dem fünffachen diesen Wertes (50 K) ist der Fehler durch die Integration unter 6 %\n",
    "und in einer akzeptablen Größenordnung.\"\"\")"
   ]
  }
 ],
 "metadata": {
  "celltoolbar": "Slideshow",
  "kernelspec": {
   "display_name": "Python 3 (ipykernel)",
   "language": "python",
   "name": "python3"
  },
  "language_info": {
   "codemirror_mode": {
    "name": "ipython",
    "version": 3
   },
   "file_extension": ".py",
   "mimetype": "text/x-python",
   "name": "python",
   "nbconvert_exporter": "python",
   "pygments_lexer": "ipython3",
   "version": "3.9.13"
  }
 },
 "nbformat": 4,
 "nbformat_minor": 5
}
